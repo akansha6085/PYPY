{
  "nbformat": 4,
  "nbformat_minor": 0,
  "metadata": {
    "colab": {
      "provenance": []
    },
    "kernelspec": {
      "name": "python3",
      "display_name": "Python 3"
    },
    "language_info": {
      "name": "python"
    }
  },
  "cells": [
    {
      "cell_type": "markdown",
      "source": [
        "1. Find the derivate of using limit of the difference coeffficient method at x = 1. f(x) =\n",
        "ex 2 + sin(x) − tan(x) + log(x)"
      ],
      "metadata": {
        "id": "8olOwtmeYZ81"
      }
    },
    {
      "cell_type": "code",
      "source": [],
      "metadata": {
        "id": "SQ2SXbGLLgEC"
      },
      "execution_count": null,
      "outputs": []
    },
    {
      "cell_type": "code",
      "execution_count": null,
      "metadata": {
        "id": "7xyjataoYXlj"
      },
      "outputs": [],
      "source": [
        "import math\n",
        "\n",
        "def diff_quotient(f, x, h):\n",
        "    return (f(x + h) - f(x)) / h\n",
        "\n",
        "def f(x):\n",
        "    return math.exp(x ** 2) + math.sin(x) - math.tan(x) + math.log(x)\n",
        "\n",
        "diff_quotient(f, 1, 0.000001)\n"
      ]
    },
    {
      "cell_type": "markdown",
      "source": [
        "2. Find the gradient of Rosenbrock function using limit of the difference\n",
        "coefficient method at the point (1,2). Rosenbrock function is defined below.\n",
        "f(x,y) = (1 − x) 2 + 100(y − x 2 ) 2"
      ],
      "metadata": {
        "id": "euRCYvuuYhqw"
      }
    },
    {
      "cell_type": "code",
      "source": [
        "def f1(x, y):\n",
        "    return (1 - x) ** 2 + 100 * (y - x ** 2) ** 2\n",
        "\n",
        "def grad(f1, x, y, h):\n",
        "    return [(f1(x + h, y) - f1(x, y)) / h, (f1(x, y + h) - f1(x, y)) / h]\n",
        "\n",
        "grad(f1, 1, 2, 0.00001)\n"
      ],
      "metadata": {
        "id": "HY9CgcTSYlcn"
      },
      "execution_count": null,
      "outputs": []
    },
    {
      "cell_type": "markdown",
      "source": [
        "3. Find the point of minima of function using Gradient Descent method taking\n",
        "initial solution x0 = 2. f(x) = x 2 + sin(x)"
      ],
      "metadata": {
        "id": "4_6z-vOzYnnS"
      }
    },
    {
      "cell_type": "code",
      "source": [
        "import math\n",
        "\n",
        "def add(v, w):\n",
        "    return [vi + wi for vi, wi in zip(v, w)]\n",
        "\n",
        "def sub(v, w):\n",
        "    return [vi - wi for vi, wi in zip(v, w)]\n",
        "\n",
        "def scalar_multiply(c, v):\n",
        "    return [c * vi for vi in v]\n",
        "\n",
        "def dot(v, w):\n",
        "    return sum(vi * wi for vi, wi in zip(v, w))\n",
        "\n",
        "def sum_of_squares(v):\n",
        "    return dot(v, v)\n",
        "\n",
        "def squared_distance(v, w):\n",
        "    return sum_of_squares(sub(v, w))\n",
        "\n",
        "def distance(v, w):\n",
        "    return math.sqrt(squared_distance(v, w))\n",
        "\n",
        "def gradient_step(v, gradient, step_size):\n",
        "    step = scalar_multiply(step_size, gradient)\n",
        "    return add(v, step)\n",
        "\n",
        "def gradient(x):\n",
        "    return [2 * x[0] + math.cos(x[0])]\n",
        "\n",
        "v = [2]\n",
        "for epoch in range(50):\n",
        "    grad = gradient(v)\n",
        "    v = gradient_step(v, grad, -0.01)\n",
        "    print(epoch, v)\n"
      ],
      "metadata": {
        "id": "JOFMogZvYy2I"
      },
      "execution_count": null,
      "outputs": []
    },
    {
      "cell_type": "markdown",
      "source": [
        "4. Find the point of minima of Rosenbrock function using Gradient Descent method\n",
        "taking initial solution (0,0). Rosenbrock function is defined below. f(x, y) = (1 − x) 2 +\n",
        "(y− x 2 ) 2 ."
      ],
      "metadata": {
        "id": "uAl28Xm5Yz0n"
      }
    },
    {
      "cell_type": "code",
      "source": [
        "def f1(x, y):\n",
        "    return (1 - x) ** 2 + (y - x ** 2) ** 2\n",
        "\n",
        "def grad(f1, x, y, h):\n",
        "    return [(f1(x + h, y) - f1(x, y)) / h, (f1(x, y + h) - f1(x, y)) / h]\n",
        "\n",
        "grad(f1, 0, 0, 0.00001)\n"
      ],
      "metadata": {
        "id": "HP1XDjVCY2MH"
      },
      "execution_count": null,
      "outputs": []
    },
    {
      "cell_type": "markdown",
      "source": [
        "5. Let X be a binomial random variable with parameters n = 100 and p = 0.6. Find\n",
        "the approximate probability that: 1. X lies above 60. 2. X lies between 50 and 70.\n",
        "using normal approximation to binomial distribution."
      ],
      "metadata": {
        "id": "mHWuWV2dY7X6"
      }
    },
    {
      "cell_type": "code",
      "source": [
        "import math\n",
        "\n",
        "def normal_approximation_to_binomial(n, p):\n",
        "    mu = p * n\n",
        "    sigma = math.sqrt(p * (1 - p) * n)\n",
        "    return mu, sigma\n",
        "\n",
        "def normal_cdf(x, mu=0, sigma=1):\n",
        "    return (1 + math.erf((x - mu) / math.sqrt(2) / sigma)) / 2\n",
        "\n",
        "normal_probability_below = normal_cdf\n",
        "\n",
        "def normal_probability_above(lo, mu=0, sigma=1):\n",
        "    return 1 - normal_cdf(lo, mu, sigma)\n",
        "\n",
        "def normal_probability_between(lo, hi, mu=0, sigma=1):\n",
        "    return normal_cdf(hi, mu, sigma) - normal_cdf(lo, mu, sigma)\n",
        "\n",
        "def normal_probability_outside(lo, hi, mu=0, sigma=1):\n",
        "    return 1 - normal_probability_between(lo, hi, mu, sigma)\n",
        "\n",
        "mu, sigma = normal_approximation_to_binomial(100, 0.6)\n",
        "print(normal_probability_above(60, mu, sigma))\n",
        "print(normal_probability_between(50, 70, mu, sigma))"
      ],
      "metadata": {
        "id": "qGP42pYJY9Ww"
      },
      "execution_count": null,
      "outputs": []
    },
    {
      "cell_type": "markdown",
      "source": [
        "6. Define p-value and find the two-sided p-value with and without continuity\n",
        "correction when the values of x(observed no. of heads), mean and standard\n",
        "deviation are 110, 100, 5 respectively."
      ],
      "metadata": {
        "id": "8jvAFHc4ZMnN"
      }
    },
    {
      "cell_type": "code",
      "source": [
        "def two_sided_p_value(x, mu=0, sigma=1):\n",
        "    if x >= mu:\n",
        "        return 2 * normal_probability_above(x, mu, sigma)\n",
        "    else:\n",
        "        return 2 * normal_probability_below(x, mu, sigma)\n",
        "\n",
        "x = 110\n",
        "mu = 100\n",
        "sigma = 5\n",
        "\n",
        "print(two_sided_p_value(x, mu, sigma))\n",
        "print(two_sided_p_value(x - 0.5, mu, sigma))"
      ],
      "metadata": {
        "id": "TCPswX40ZO0p"
      },
      "execution_count": null,
      "outputs": []
    }
  ]
}