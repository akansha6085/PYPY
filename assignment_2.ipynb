{
  "nbformat": 4,
  "nbformat_minor": 0,
  "metadata": {
    "colab": {
      "provenance": []
    },
    "kernelspec": {
      "name": "python3",
      "display_name": "Python 3"
    },
    "language_info": {
      "name": "python"
    }
  },
  "cells": [
    {
      "cell_type": "markdown",
      "source": [
        "1. Write a menu-driven program to perform Addition, Subtraction, Scalar\n",
        "Multiplication, Dot Product and Length of vectors."
      ],
      "metadata": {
        "id": "Ni19ZHcHVeHu"
      }
    },
    {
      "cell_type": "code",
      "execution_count": null,
      "metadata": {
        "id": "1Wr5VYL8VcsU"
      },
      "outputs": [],
      "source": [
        "import math\n",
        "\n",
        "def addition(lst, lst1):\n",
        "    assert len(lst) == len(lst1)\n",
        "    lst2 = []\n",
        "    for i in range(len(lst)):\n",
        "        lst2.append(lst[i] + lst1[i])\n",
        "    print(lst2)\n",
        "\n",
        "def subtraction(lst, lst1):\n",
        "    assert len(lst) == len(lst1)\n",
        "    lst2 = []\n",
        "    for i in range(len(lst)):\n",
        "        lst2.append(lst[i] - lst1[i])\n",
        "    print(lst2)\n",
        "\n",
        "def multiplication(lst, incval):\n",
        "    lst2 = []\n",
        "    for i in range(len(lst)):\n",
        "        lst2.append(incval * lst[i])\n",
        "    print(lst2)\n",
        "\n",
        "def dotproduct(lst, lst1):\n",
        "    assert len(lst) == len(lst1)\n",
        "    lst2 = []\n",
        "    for i in range(len(lst)):\n",
        "        lst2.append(lst[i] * lst1[i])\n",
        "    print(sum(lst2))\n",
        "\n",
        "def calculation(lst, lst1):\n",
        "    assert len(lst) == len(lst1)\n",
        "    lst2 = []\n",
        "    for i in range(len(lst)):\n",
        "        lst2.append((lst[i] - lst1[i]) ** 2)\n",
        "    res = sum(lst2)\n",
        "    print(math.sqrt(res))\n",
        "\n",
        "lst = eval(input(\"Enter first list: \"))\n",
        "lst1 = eval(input(\"Enter second list: \"))\n",
        "\n",
        "while True:\n",
        "    choice = int(input(\"Enter your choice: \"))\n",
        "    if choice == 1:\n",
        "        addition(lst, lst1)\n",
        "    elif choice == 2:\n",
        "        subtraction(lst, lst1)\n",
        "    elif choice == 3:\n",
        "        multiplication(lst, int(input(\"Enter the value for multiplication: \")))\n",
        "    elif choice == 4:\n",
        "        dotproduct(lst, lst1)\n",
        "    elif choice == 5:\n",
        "        calculation(lst, lst1)\n",
        "    else:\n",
        "        print('Wrong Input')"
      ]
    },
    {
      "cell_type": "markdown",
      "source": [
        "2. Write a program that takes the order of the matrix and creates a matrix in the\n",
        "following manner:\n",
        "The (ij)th entry of the matrix should be the sum of i and j. Eg: The 0th row and\n",
        "0th column should have the value (0+0) i.e. 0 and the 0th row and first column\n",
        "should have value (0+1) i.e. 1 and so on."
      ],
      "metadata": {
        "id": "yWufAnpYVsBu"
      }
    },
    {
      "cell_type": "code",
      "source": [
        "lst = []\n",
        "\n",
        "def create_matrix(n):\n",
        "    for i in range(n):\n",
        "        lst1 = []\n",
        "        for j in range(n):\n",
        "            lst1.append(i + j)\n",
        "        lst.append(lst1)\n",
        "\n",
        "create_matrix(int(input(\"Enter the value of n: \")))\n",
        "print(lst)"
      ],
      "metadata": {
        "id": "iHAqtxrdVt35"
      },
      "execution_count": null,
      "outputs": []
    },
    {
      "cell_type": "markdown",
      "source": [
        "3. Write two functions that extract the rows and columns of a matrix A."
      ],
      "metadata": {
        "id": "GlPRrXUjV0b0"
      }
    },
    {
      "cell_type": "code",
      "source": [
        "def extract_rows(lst):\n",
        "    for i in range(len(lst)):\n",
        "        print(lst[i])\n",
        "\n",
        "def extract_columns(lst):\n",
        "    lst1 = []\n",
        "    for i in range(len(lst)):\n",
        "        for j in range(len(lst[0])):\n",
        "            lst1.append(lst[j][i])\n",
        "    print(lst1)\n",
        "\n",
        "lst = [[1, 2, 3],\n",
        "       [4, 5, 6],\n",
        "       [7, 8, 9]]\n",
        "\n",
        "extract_rows(lst)\n",
        "extract_columns(lst)"
      ],
      "metadata": {
        "colab": {
          "base_uri": "https://localhost:8080/"
        },
        "id": "YO6udpX_V-pe",
        "outputId": "6ce7824b-14e7-4c74-9179-6081792eff53"
      },
      "execution_count": null,
      "outputs": [
        {
          "output_type": "stream",
          "name": "stdout",
          "text": [
            "[1, 2, 3]\n",
            "[4, 5, 6]\n",
            "[7, 8, 9]\n",
            "[1, 4, 7, 2, 5, 8, 3, 6, 9]\n"
          ]
        }
      ]
    },
    {
      "cell_type": "markdown",
      "source": [
        "4. Write a function to compute the component-wise mean of a list of vectors.\n",
        "Assert the condition that the vectors must be of same length."
      ],
      "metadata": {
        "id": "luIVBKkbWBqk"
      }
    },
    {
      "cell_type": "code",
      "source": [
        "def mean(lst):\n",
        "    length = len(lst[0])\n",
        "    sum_value = [sum(lst[i]) for lst in lst]\n",
        "    print(sum_value)\n",
        "    n = len(lst)\n",
        "    product_value = [(1/n) * i for i in sum_value]\n",
        "    print(product_value)\n",
        "\n",
        "lst = [[1, 2], [3, 4], [5, 6]]\n",
        "mean(lst)"
      ],
      "metadata": {
        "id": "RBD3IIE1WD_d"
      },
      "execution_count": null,
      "outputs": []
    },
    {
      "cell_type": "markdown",
      "source": [
        "5. Use the numpy module to create two arrays of same size and perform cross\n",
        "product operation on them using the built in function cross present in the\n",
        "numpy module."
      ],
      "metadata": {
        "id": "yTS-gVVeWP5_"
      }
    },
    {
      "cell_type": "code",
      "source": [
        "import numpy as np\n",
        "lst = np.arange(3)\n",
        "lst1 = np.arange(3)\n",
        "lst=eval(input(\"enter lst: \"))\n",
        "lst1=eval(input(\"enter lst1: \"))\n",
        "print(np.cross(lst,lst1))"
      ],
      "metadata": {
        "id": "9YnlBGGWWU45"
      },
      "execution_count": null,
      "outputs": []
    },
    {
      "cell_type": "markdown",
      "source": [
        "6. Generate a list of 100 random integers between 1 and 100 and plot a\n",
        "histogram of the same."
      ],
      "metadata": {
        "id": "s06FyF8oWXSe"
      }
    },
    {
      "cell_type": "code",
      "source": [
        "import matplotlib.pyplot as plt\n",
        "import random\n",
        "data = [random.randint(1, 100) for _ in range(100)]\n",
        "plt.hist(data)\n",
        "plt.show()"
      ],
      "metadata": {
        "id": "R2DnIdX1WZ_l"
      },
      "execution_count": null,
      "outputs": []
    },
    {
      "cell_type": "markdown",
      "source": [
        "7. Write a program to find median of a given list of integers. Combine both odd\n",
        "and even number of terms."
      ],
      "metadata": {
        "id": "A6M9NAWQWeJD"
      }
    },
    {
      "cell_type": "code",
      "source": [
        "lst = [1, 3, 4, 2, 7, 5, 8, 6]\n",
        "n = len(lst)\n",
        "sorted_lst = sorted(lst)\n",
        "\n",
        "if n % 2 != 0:\n",
        "    print(float(sorted_lst[n // 2]))\n",
        "else:\n",
        "    print(float((sorted_lst[int((n-1)/2)] + sorted_lst[int(n / 2)]) / 2.0))\n"
      ],
      "metadata": {
        "id": "FEZvtYbYWfBR"
      },
      "execution_count": null,
      "outputs": []
    },
    {
      "cell_type": "markdown",
      "source": [
        "8. We have defined the function normal cdf. Write a program to invert normal\n",
        "cdf to find the value corresponding to a specified probability."
      ],
      "metadata": {
        "id": "5AySSV_kWnfu"
      }
    },
    {
      "cell_type": "code",
      "source": [
        "import math\n",
        "\n",
        "def normal_cdf(x, mu=0, sigma=1):\n",
        "    return (1 + math.erf((x - mu) / math.sqrt(2) / sigma)) / 2\n",
        "\n",
        "def invert_normal_cdf(p, mu=0, sigma=1, tolerance=0.00001):\n",
        "    if mu != 0 or sigma != 1:\n",
        "        return mu + sigma * invert_normal_cdf(p, tolerance=tolerance)\n",
        "\n",
        "    low_z = -10.0\n",
        "    hi_z = 10.0\n",
        "\n",
        "    while hi_z - low_z > tolerance:\n",
        "        mid_z = (low_z + hi_z) / 2\n",
        "        mid_p = normal_cdf(mid_z)\n",
        "\n",
        "        if mid_p < p:\n",
        "            low_z = mid_z\n",
        "        else:\n",
        "            hi_z = mid_z\n",
        "\n",
        "    return mid_z\n",
        "\n",
        "print(invert_normal_cdf(1))\n"
      ],
      "metadata": {
        "id": "ALCfHjLaWqWh"
      },
      "execution_count": null,
      "outputs": []
    },
    {
      "cell_type": "markdown",
      "source": [
        "9. Plot the Normal PDFs using various value of μ and σ as mentioned below:"
      ],
      "metadata": {
        "id": "AbjNL5CcWwa3"
      }
    },
    {
      "cell_type": "code",
      "source": [
        "import math\n",
        "import matplotlib.pyplot as plt\n",
        "\n",
        "SQRT_TWO_PI = math.sqrt(2 * math.pi)\n",
        "\n",
        "def normal_pdf(x: float, mu: float = 0, sigma: float = 1) -> float:\n",
        "    return (math.exp(-(x - mu) ** 2 / 2 / sigma ** 2) / (SQRT_TWO_PI * sigma))\n",
        "\n",
        "xs = [x / 10.0 for x in range(-50, 50)]\n",
        "\n",
        "plt.plot(xs, [normal_pdf(x, sigma=1) for x in xs], '-', label='mu=0, sigma=1')\n",
        "plt.plot(xs, [normal_pdf(x, sigma=2) for x in xs], '--', label='mu=0, sigma=2')\n",
        "plt.plot(xs, [normal_pdf(x, sigma=0.5) for x in xs], ':', label='mu=0, sigma=0.5')\n",
        "plt.plot(xs, [normal_pdf(x, mu=-1) for x in xs], '-.', label='mu=-1, sigma=1')\n",
        "\n",
        "plt.legend()\n",
        "plt.title(\"Various Normal pdfs\")\n",
        "plt.show()\n"
      ],
      "metadata": {
        "id": "KWfrEZzyWyiD"
      },
      "execution_count": null,
      "outputs": []
    },
    {
      "cell_type": "markdown",
      "source": [
        "10. Do the same as above question for Normal CDFs using the same values of μ\n",
        "and σ."
      ],
      "metadata": {
        "id": "ee5l6YKLW9Oi"
      }
    },
    {
      "cell_type": "code",
      "source": [
        "from A2Q8 import normal_cdf\n",
        "import matplotlib.pyplot as plt\n",
        "xs = [x/10.0 for x in range(-50,50)]\n",
        "plt.plot(xs,[normal_cdf(x,sigma=1) for x in xs],'-',label='mu=0,sigma=1')\n",
        "plt.plot(xs,[normal_cdf(x,sigma=2) for x in xs],'--',label='mu=0,sigma=2')\n",
        "plt.plot(xs,[normal_cdf(x,sigma=0.5) for x in xs],':',label='mu=0,sigma=0.5')\n",
        "plt.plot(xs,[normal_cdf(x,mu=-1) for x in xs],'-.',label='mu=-1,sigma=1')\n",
        "plt.legend()\n",
        "plt.title(\"Various Normal cdfs\")\n",
        "plt.show()"
      ],
      "metadata": {
        "id": "Dg-mbiXEW981"
      },
      "execution_count": null,
      "outputs": []
    },
    {
      "cell_type": "markdown",
      "source": [
        "11. What are random variables? Give two examples."
      ],
      "metadata": {
        "id": "l7FmJFITXEMV"
      }
    },
    {
      "cell_type": "markdown",
      "source": [
        "Ans :- A random variable is a variable whose possible values have an associated\n",
        "probability distribution.\n",
        "E.g. :- A very simple random variable equals 1 if a coin flip turns up\n",
        "heads and 0 if the flip turns up tails."
      ],
      "metadata": {
        "id": "-gT5XVTkXGCP"
      }
    },
    {
      "cell_type": "markdown",
      "source": [
        "12. What are independent events? Give two examples of the same."
      ],
      "metadata": {
        "id": "8xdTwLmmXH9w"
      }
    },
    {
      "cell_type": "markdown",
      "source": [
        "Ans :- Mathematically, we say that two events E and F are independent if\n",
        "the probability that they both happen is the product of the probabilities that each one\n",
        "happens: P(E,F) = P(E)P(F)"
      ],
      "metadata": {
        "id": "43c_rwrHXKBf"
      }
    },
    {
      "cell_type": "markdown",
      "source": [
        "13. Using the Binomial(n, p) distribution plot a histogram to show the actual\n",
        "binomial samples. Use a line chart to show the normal approximation. Plot both\n",
        "in the same graph. Take n=100, p=0.75 and number of points should be 100."
      ],
      "metadata": {
        "id": "5q-2uA23XM5Y"
      }
    },
    {
      "cell_type": "code",
      "source": [
        "import random\n",
        "from collections import Counter\n",
        "import matplotlib.pyplot as plt\n",
        "import math\n",
        "from A2Q8 import normal_cdf\n",
        "\n",
        "def bernoulli_trial(p):\n",
        "    return 1 if random.random() < p else 0\n",
        "\n",
        "def binomial(n, p):\n",
        "    return sum(bernoulli_trial(p) for _ in range(n))\n",
        "\n",
        "def binomial_histogram(p, n, num_points):\n",
        "    data = [binomial(n, p) for _ in range(num_points)]\n",
        "    histogram = Counter(data)\n",
        "    plt.bar([x - 0.4 for x in histogram.keys()],\n",
        "            [v / num_points for v in histogram.values()],\n",
        "            0.8,\n",
        "            color='0.75')\n",
        "\n",
        "    mu = p * n\n",
        "    sigma = math.sqrt(n * p * (1 - p))\n",
        "\n",
        "    xs = range(min(data), max(data) + 1)\n",
        "    ys = [normal_cdf(i + 0.5, mu, sigma) - normal_cdf(i - 0.5, mu, sigma) for i in xs]\n",
        "\n",
        "    plt.plot(xs, ys)\n",
        "    plt.title(\"Binomial Distribution vs. Normal Approximation\")\n",
        "    plt.show()\n",
        "\n",
        "binomial_histogram(0.75, 100, 100)\n"
      ],
      "metadata": {
        "id": "5FFohJEmXZe7"
      },
      "execution_count": null,
      "outputs": []
    }
  ]
}