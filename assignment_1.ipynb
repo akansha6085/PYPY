{
  "nbformat": 4,
  "nbformat_minor": 0,
  "metadata": {
    "colab": {
      "provenance": []
    },
    "kernelspec": {
      "name": "python3",
      "display_name": "Python 3"
    },
    "language_info": {
      "name": "python"
    }
  },
  "cells": [
    {
      "cell_type": "markdown",
      "source": [
        "1. An anonymous dataset containing each user's salary (in dollars) and tenure as a data scientist (in years) is given.\n",
        "\n",
        "Salaries and tenures = [\n",
        "    (83000, 8.7),\n",
        "    (88000, 8.1),\n",
        "    (48000, 0.7),\n",
        "    (76000, 6),\n",
        "    (69000, 6.5),\n",
        "    (76000, 7.5),\n",
        "    (60000, 2.5),\n",
        "    (83000, 10),\n",
        "    (48000, 1.9),\n",
        "    (63000, 4.2)\n",
        "]\n",
        "\n",
        "Find out the average salary for each tenure and print a message according to its value, i.e., \"less than two\", \"between two and five\", and \"more than five\" tenure. Group together the salaries corresponding to each bucket. Compute the average salary for each group."
      ],
      "metadata": {
        "id": "osDGf8lyMlZV"
      }
    },
    {
      "cell_type": "code",
      "execution_count": null,
      "metadata": {
        "id": "L1IBJPrJLoKT"
      },
      "outputs": [],
      "source": [
        "from collections import defaultdict\n",
        "\n",
        "salaries_and_tenures = [\n",
        "    (83000, 8.7),\n",
        "    (88000, 8.1),\n",
        "    (48000, 0.7),\n",
        "    (76000, 6),\n",
        "    (69000, 6.5),\n",
        "    (76000, 7.5),\n",
        "    (60000, 2.5),\n",
        "    (83000, 10),\n",
        "    (48000, 1.9),\n",
        "    (63000, 4.2)\n",
        "]\n",
        "\n",
        "salary_per_tenure = defaultdict(list)\n",
        "for salary, tenure in salaries_and_tenures:\n",
        "    salary_per_tenure[tenure].append(salary)\n",
        "\n",
        "average_salary_by_tenure = {\n",
        "    tenure: sum(salaries) / len(salaries)\n",
        "    for tenure, salaries in salary_per_tenure.items()\n",
        "}\n",
        "\n",
        "print(average_salary_by_tenure)\n",
        "\n",
        "\n",
        "def tenure_bucket(tenure):\n",
        "    if tenure < 2:\n",
        "        return \"less than two\"\n",
        "    elif tenure < 5:\n",
        "        return \"between two and five\"\n",
        "    else:\n",
        "        return \"more than five\"\n",
        "\n",
        "\n",
        "salary_by_tenure_bucket = defaultdict(list)\n",
        "for salary, tenure in salaries_and_tenures:\n",
        "    bucket = tenure_bucket(tenure)\n",
        "    salary_by_tenure_bucket[bucket].append(salary)\n",
        "\n",
        "average_salary_by_bucket = {\n",
        "    tenure_bucket: sum(salaries) / len(salaries)\n",
        "    for tenure_bucket, salaries in salary_by_tenure_bucket.items()\n",
        "}\n",
        "\n",
        "print(average_salary_by_bucket)"
      ]
    },
    {
      "cell_type": "markdown",
      "source": [
        "2. For the above data, there seems to be a correspondence between years of experience and paid accounts.\n",
        "\n",
        "Users with very few and very many years of experience tend to pay, while users with average amounts of experience don't. Find out the condition for this correspondence and print it."
      ],
      "metadata": {
        "id": "80d9U1UtM4mx"
      }
    },
    {
      "cell_type": "code",
      "source": [
        "from collections import defaultdict\n",
        "\n",
        "salaries_and_tenures = [\n",
        "    (83000, 8.7),\n",
        "    (88000, 8.1),\n",
        "    (48000, 0.7),\n",
        "    (76000, 6),\n",
        "    (69000, 6.5),\n",
        "    (76000, 7.5),\n",
        "    (60000, 2.5),\n",
        "    (83000, 10),\n",
        "    (48000, 1.9),\n",
        "    (63000, 4.2)\n",
        "]\n",
        "\n",
        "def predict_paid_or_unpaid(years_experience):\n",
        "    if years_experience < 3.0:\n",
        "        return \"paid\"\n",
        "    elif years_experience < 8.5:\n",
        "        return \"unpaid\"\n",
        "    else:\n",
        "        return \"paid\"\n",
        "\n",
        "salary_per_tenure = defaultdict(list)\n",
        "for salary, tenure in salaries_and_tenures:\n",
        "    paid_or_unpaid = predict_paid_or_unpaid(tenure)\n",
        "    salary_per_tenure[tenure].append(paid_or_unpaid)\n",
        "\n",
        "res = {}\n",
        "for key, value in salary_per_tenure.items():\n",
        "    res[key] = value[0]\n",
        "\n",
        "print(res)"
      ],
      "metadata": {
        "id": "RqYE3hw2Losx"
      },
      "execution_count": null,
      "outputs": []
    },
    {
      "cell_type": "markdown",
      "source": [
        "3. Write a Python Script to generate random passwords (alphanumeric). Ask users to enter the length of the password and the number of passwords they want to generate. Then, save all the generated passwords as a text file named \"MyPasswords.txt\"."
      ],
      "metadata": {
        "id": "rXC0kiYBNXsa"
      }
    },
    {
      "cell_type": "code",
      "source": [
        "import random\n",
        "import string\n",
        "\n",
        "x = string.ascii_uppercase + string.ascii_lowercase + string.ascii_uppercase + string.digits\n",
        "\n",
        "number = input('Number of passwords: ')\n",
        "number = int(number)\n",
        "\n",
        "length = input('Password length: ')\n",
        "length = int(length)\n",
        "\n",
        "for i in range(number):\n",
        "    password = ''\n",
        "    for j in range(length):\n",
        "        password += random.choice(x)\n",
        "    print(password)\n",
        "    password += \"\\n\"\n",
        "    file = open('MyPasswords.txt', \"a\")\n",
        "    file.write(password)\n",
        "    file.close()"
      ],
      "metadata": {
        "id": "_esTdfYtOGIO"
      },
      "execution_count": null,
      "outputs": []
    },
    {
      "cell_type": "markdown",
      "source": [
        "4. Given a file named \"MyText.txt\" containing several lines/paragraphs, find all unique characters (ignore space, comma, full stop, brackets, and quotes, etc.) present in the file. Capital and small letters are counted as the same. Find the frequency (fi) of all characters in the file and print the output as follows:\n",
        "The character \"a\" is present [times] in the document.\n",
        "The character \"t\" is present [times] in the document."
      ],
      "metadata": {
        "id": "y8y7FYrqOcKz"
      }
    },
    {
      "cell_type": "code",
      "source": [
        "f = open(\"MyText.txt\", \"r\")\n",
        "lines = f.readlines()\n",
        "string = '' + str(lines)\n",
        "uniquechar = ''.join(set(string))\n",
        "print(len(uniquechar))\n",
        "\n",
        "for i in range(len(uniquechar)):\n",
        "    if uniquechar[i].isalpha():\n",
        "        print(uniquechar[i], '=', end='')\n",
        "        print(string.count(uniquechar[i]))\n",
        "\n",
        "f.close()"
      ],
      "metadata": {
        "id": "svFy3DFcOdDQ"
      },
      "execution_count": null,
      "outputs": []
    },
    {
      "cell_type": "markdown",
      "source": [
        "5. Use the above program as a function and use it to write another function to compare contents of two files \"MyText1.txt\" and \"MyText2.txt\".\n",
        "\n",
        "a. The output must also give the following information: File MyText1 contains more (or less or equal) characters than MyText2.\n",
        "\n",
        "b. The output must be printed in the following format depending on the content of the file: File MyText1 contains more (or less or equal) unique characters than MyText2.\n",
        "\n",
        "c. The frequency of each character must be summarized. The frequency of character \"x\" in file MyText1 is more (or less or equal) to characters than MyText2.\n",
        "\n",
        "d. The relative frequency of each character must also be summarized. The relative frequency of character \"x\" in file MyText1 is more (or less or equal) to characters than MyText2.\n",
        "\n",
        "Please note that the input files should be nonempty."
      ],
      "metadata": {
        "id": "7KShn2IzOkho"
      }
    },
    {
      "cell_type": "code",
      "source": [
        "import re\n",
        "\n",
        "my_dict = {}\n",
        "my_dict2 = {}\n",
        "\n",
        "\n",
        "def readFile():\n",
        "    f = open('Mytext.txt', 'r')\n",
        "    for line in f:\n",
        "        x = re.findall(\"[0-9a-zA-Z]\", line)\n",
        "        for char in x:\n",
        "            ch = char.lower()\n",
        "            if ch in my_dict:\n",
        "                my_dict[ch] = int(my_dict[ch]) + 1\n",
        "            else:\n",
        "                my_dict[ch] = 1\n",
        "    print(my_dict)\n",
        "    readFile2()\n",
        "\n",
        "\n",
        "def readFile2():\n",
        "    f = open(\"Mytext2.txt\", 'r')\n",
        "    for line in f:\n",
        "        x = re.findall(\"[0-9a-zA-Z]\", line)\n",
        "        for char in x:\n",
        "            ch = char.lower()\n",
        "            if ch in my_dict2:\n",
        "                my_dict2[ch] = int(my_dict2[ch]) + 1\n",
        "            else:\n",
        "                my_dict2[ch] = 1\n",
        "    print(my_dict2)\n",
        "    compareWord(my_dict, my_dict2)\n",
        "\n",
        "\n",
        "def compareWord(my_dict1, my_dict2):\n",
        "    print(set(my_dict2) - set(my_dict1))\n",
        "    x = set(my_dict2) - set(my_dict1)\n",
        "    for key, val in my_dict1.items():\n",
        "        if key not in my_dict2:\n",
        "            print(\"The char \" + key + \" is more in MyText1.txt than MyText2.txt\")\n",
        "            continue\n",
        "        if my_dict1[key] > my_dict2[key]:\n",
        "            print(\"The char \" + key + \" is more in MyText1.txt than MyText2.txt\")\n",
        "        elif my_dict1[key] < my_dict2[key]:\n",
        "            print(\"The char \" + key + \" is less in MyText1.txt than MyText2.txt\")\n",
        "        elif my_dict1[key] == my_dict2[key]:\n",
        "            print(\"The char \" + key + \" is equal in MyText1.txt and MyText2.txt\")\n",
        "    for key in x:\n",
        "        print(\"The char \" + key + \" is less in MyText1.txt than MyText2.txt\")\n",
        "\n",
        "\n",
        "def printFreq(my_dict):\n",
        "    for key, val in my_dict.items():\n",
        "        print(\"The character \\\"\" + str(key) + \"\\\" is present \" + str(val) + \" times in the document\")\n",
        "\n",
        "\n",
        "if __name__ == '__main__':\n",
        "    readFile()\n"
      ],
      "metadata": {
        "id": "06Kt_DXfO1EY"
      },
      "execution_count": null,
      "outputs": []
    },
    {
      "cell_type": "markdown",
      "source": [
        "6. Read a list named StringList1 containing strings from the key board. Generate a stri\n",
        "ng MStringList1 that contains all items of StringList1 that are repeated twice or a great\n",
        "er number of times and print this list. By observing the outcome of MStringList1 perfor\n",
        "m the following tasks:\n",
        "a. Check wather an item of MStringList1 occurs even number of times or odd number\n",
        "of times in StringList1.\n",
        "b. Remove the ith (i ≥ 2) occurrence of a given word in a StringList1."
      ],
      "metadata": {
        "id": "TjXLvfozPJEF"
      }
    },
    {
      "cell_type": "code",
      "source": [
        "def check(lst):\n",
        "    lst1 = []\n",
        "    set1 = set(lst)\n",
        "    for i in set1:\n",
        "        if lst.count(i) >= 2:\n",
        "            lst1.append(i)\n",
        "    print('MStringList1', lst1)\n",
        "    print(list(set1))\n",
        "\n",
        "lst = eval(input(\"Enter the list: \"))\n",
        "check(lst)"
      ],
      "metadata": {
        "id": "FLpbUDSDPKLx"
      },
      "execution_count": null,
      "outputs": []
    },
    {
      "cell_type": "markdown",
      "source": [
        "7. From the file” MyText.txt” count frequencies of various alphabets (Convert upper\n",
        "case into lower case), plot the results for this as a bar chart with x-axis being the letter\n",
        "and y axis as the corresponding frequency."
      ],
      "metadata": {
        "id": "v0sekE1lPRCT"
      }
    },
    {
      "cell_type": "code",
      "source": [
        "import matplotlib.pyplot as plt\n",
        "\n",
        "f = open(\"MyText.txt\", \"r\")\n",
        "file1 = f.readlines()\n",
        "filestr = file1[0]\n",
        "\n",
        "freq = {}\n",
        "for i in filestr:\n",
        "    if i in freq:\n",
        "        freq[i] += 1\n",
        "    else:\n",
        "        freq[i] = 1\n",
        "\n",
        "freq = dict((k.lower(), v) for k, v in freq.items())\n",
        "\n",
        "xaxis = list(freq.keys())\n",
        "yaxis = list(freq.values())\n",
        "\n",
        "plt.bar(range(len(freq)), yaxis, tick_label=xaxis)\n",
        "plt.show()"
      ],
      "metadata": {
        "id": "f-02KIZkPTtv"
      },
      "execution_count": null,
      "outputs": []
    },
    {
      "cell_type": "markdown",
      "source": [
        "8. Use the following data to plot the number of applicants per year as a scatter plot.\n",
        "year = [2020, 2019, 2018, 2017, 2016, 2015, 2014, 2013, 2012]\n",
        "no application per year = [921261, 929198, 1043739, 1186454, 1194938, 1304495,\n",
        "1356805, 1282000, 479651]"
      ],
      "metadata": {
        "id": "AepiYuCgPpbJ"
      }
    },
    {
      "cell_type": "code",
      "source": [
        "from matplotlib import pyplot as plt\n",
        "\n",
        "year = [2020, 2019, 2018, 2017, 2016, 2015, 2014, 2013, 2012]\n",
        "no_application_per_year = [921261, 929198, 1043739, 1186454, 1194938, 1304495, 1356805, 1282000, 479651]\n",
        "\n",
        "plt.scatter(year, no_application_per_year)\n",
        "plt.xlabel('year')\n",
        "plt.ylabel('# of applicants')\n",
        "plt.show()"
      ],
      "metadata": {
        "id": "45mSRYWkPrle"
      },
      "execution_count": null,
      "outputs": []
    },
    {
      "cell_type": "markdown",
      "source": [
        "9. Plot xsinx, x2sinx , x3sinx and x4sinx in a single plot in the range x ∈ [−10, 10]."
      ],
      "metadata": {
        "id": "48M7ruomP4iI"
      }
    },
    {
      "cell_type": "code",
      "source": [
        "import matplotlib.pyplot as plt\n",
        "import numpy as np\n",
        "x = np.arange(-10,10)\n",
        "y = x*(np.sin(x))\n",
        "y1 = x*x*(np.sin(x))\n",
        "y2 = x*x*x*(np.sin(x))\n",
        "y3 = x*x*x*x*(np.sin(x))\n",
        "plt.plot(x,y,x,y1,x,y2,x,y3)\n",
        "plt.show()"
      ],
      "metadata": {
        "id": "DurWNMaYP7S1"
      },
      "execution_count": null,
      "outputs": []
    },
    {
      "cell_type": "markdown",
      "source": [
        "10. Plot histogram for age of male and female in different plots for the following data of\n",
        "male and female age.\n",
        "male age = [53,51,71,31,33,39,52,27,54,30,64,26,21,54,52,20,59,32]\n",
        "female age = [53,65,68,21,75,46,24,63,61,24,49,41,39,40,25,54,42,32,48,23,23]"
      ],
      "metadata": {
        "id": "34FE9hFEQK4w"
      }
    },
    {
      "cell_type": "code",
      "source": [
        "import matplotlib.pyplot as plt\n",
        "\n",
        "# Male\n",
        "male_age = [53, 51, 71, 31, 33, 39, 52, 27, 54, 30, 64, 26, 21, 54, 52, 20, 59, 32]\n",
        "plt.hist(male_age, edgecolor='black')\n",
        "plt.xlabel('Age')\n",
        "plt.ylabel('Person count')\n",
        "plt.title('Male Age Distribution')\n",
        "plt.show()\n",
        "\n",
        "# Female\n",
        "female_age = [53, 65, 68, 21, 75, 46, 24, 63, 61, 24, 49, 41, 39, 40, 25, 54, 42, 32, 48, 23, 23]\n",
        "plt.hist(female_age, edgecolor='black')\n",
        "plt.xlabel('Age')\n",
        "plt.ylabel('Person count')\n",
        "plt.title('Female Age Distribution')\n",
        "plt.show()"
      ],
      "metadata": {
        "id": "SMH9tDv_QNzC"
      },
      "execution_count": null,
      "outputs": []
    },
    {
      "cell_type": "markdown",
      "source": [
        "11. Plot the temperature extremes in certain region of India for each month, starting in\n",
        "January, which are given by (in degrees Celsius).\n",
        "max: 17, 19, 21, 28, 33, 38, 37, 37, 31, 23, 19, 18\n",
        "min: -62, -59, -56, -46, -32, -18, -9, -13, -25, -46, -52, -58"
      ],
      "metadata": {
        "id": "vYzFlhmaQYiS"
      }
    },
    {
      "cell_type": "code",
      "source": [
        "from matplotlib import pyplot as plt\n",
        "\n",
        "x = [1, 2, 3, 4, 5, 6, 7, 8, 9, 10, 11, 12]\n",
        "max_temp = [17, 19, 21, 28, 33, 38, 37, 37, 31, 23, 19, 18]\n",
        "min_temp = [-62, -59, -56, -46, -32, -18, -9, -13, -25, -46, -52, -58]\n",
        "\n",
        "plt.xlabel('Months')\n",
        "plt.ylabel('Temperature (°C)')\n",
        "plt.plot(x, max_temp, 'm-.', label='Max Temperature')\n",
        "plt.plot(x, min_temp, 'c:', label='Min Temperature')\n",
        "plt.legend()\n",
        "plt.show()"
      ],
      "metadata": {
        "id": "oW7N_GKaQbkh"
      },
      "execution_count": null,
      "outputs": []
    },
    {
      "cell_type": "markdown",
      "source": [
        "12. Python Program to find all Numbers in a Range (given by user) which are Perfect\n",
        "Squares and Sum of all Digits in the Number is Less than 10."
      ],
      "metadata": {
        "id": "rOBbxizsQl96"
      }
    },
    {
      "cell_type": "code",
      "source": [
        "l=int (input (\"Enter lower bound \"))\n",
        "u=int (input (\"Enter upper bound \"))\n",
        "a= []\n",
        "a= [x for x in range(l,u+1) if (int(x**0.5))**2==x and\n",
        "sum(list(map(int,str(x))))<10]\n",
        "print(a)"
      ],
      "metadata": {
        "id": "3Xexf6GVQn-j"
      },
      "execution_count": null,
      "outputs": []
    },
    {
      "cell_type": "markdown",
      "source": [],
      "metadata": {
        "id": "X95ys6F8QFJy"
      }
    },
    {
      "cell_type": "markdown",
      "source": [
        "13. Plot a bar chart with axis labels for given data:\n",
        "mentions = [500, 505]\n",
        "years = [2017, 2018]\n",
        "Do not give any extra condition for x-axis as well as y-axis. Now again plot the bar chart\n",
        "for this data and start y-axis from 0.\n",
        "State the difference in both the bar chart."
      ],
      "metadata": {
        "id": "RbhSiW9xQtQ0"
      }
    },
    {
      "cell_type": "code",
      "source": [
        "from matplotlib import pyplot as plt\n",
        "\n",
        "mentions = [500, 505]\n",
        "years = [2017, 2018]\n",
        "\n",
        "plt.bar(range(len(years)), mentions)\n",
        "plt.ylim(bottom=0)\n",
        "plt.ylabel(\"Mentions\")\n",
        "plt.xlabel(\"Years\")\n",
        "plt.xticks(range(len(years)), years)\n",
        "\n",
        "# Adding labels to the bars\n",
        "for i, mention in enumerate(mentions):\n",
        "    plt.text(i, mention, str(mention), ha='center', va='bottom')\n",
        "\n",
        "plt.show()"
      ],
      "metadata": {
        "id": "pV5DjKQmQt9u"
      },
      "execution_count": null,
      "outputs": []
    },
    {
      "cell_type": "markdown",
      "source": [
        "14. Plot the scatter plot for following data with unequal axis and then equal axis. Also\n",
        "state the difference in two.\n",
        "test 1 grades = [ 99, 90, 85, 97, 80]\n",
        "test 2 grades = [100, 85, 60, 90, 70]"
      ],
      "metadata": {
        "id": "3h4OVTamQ2CF"
      }
    },
    {
      "cell_type": "code",
      "source": [
        "#equal\n",
        "from matplotlib import pyplot as plt\n",
        "test_1_grades = [ 99, 90, 85, 97, 80]\n",
        "test_2_grades = [100, 85, 60, 90, 70]\n",
        "plt.scatter(test_1_grades, test_2_grades)\n",
        "plt.xlabel(\"test 1 grade\")\n",
        "plt.ylabel(\"test 2 grade\")\n",
        "plt.axis(\"equal\")\n",
        "plt.show()\n",
        "\n",
        "#unequal\n",
        "from matplotlib import pyplot as plt\n",
        "test_1_grades = [ 99, 90, 85, 97, 80]\n",
        "test_2_grades = [100, 85, 60, 90, 70]\n",
        "plt.scatter(test_1_grades, test_2_grades)\n",
        "plt.xlabel(\"test 1 grade\")\n",
        "plt.ylabel(\"test 2 grade\")\n",
        "plt.show()"
      ],
      "metadata": {
        "id": "M48Y5XtZQ23b"
      },
      "execution_count": null,
      "outputs": []
    }
  ]
}